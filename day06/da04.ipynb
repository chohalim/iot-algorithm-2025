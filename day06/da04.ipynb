{
 "cells": [
  {
   "cell_type": "markdown",
   "metadata": {},
   "source": [
    "## 정렬 Sort\n",
    "<img src='https://upload.wikimedia.org/wikipedia/commons/thumb/8/8e/Merge_sort_animation.gif/220px-Merge_sort_animation.gif'\n",
    "whidh='400'>\n",
    "\n",
    "- 여러 데이터를 작은 값부터 큰 순으로 또는 큰 값부터 작은 순으로 순서에 맞게 정리하는 것\n",
    "    - 오름차순(Ascending sort)\n",
    "    - 내림차순(Descending sort)\n",
    "\n",
    "<!--표만들때 :--(왼쪽정렬) --:(오른쪽정렬) :--:(중앙정렬) -->\n",
    "|종류|평균|최선|최악|\n",
    "|:--|:--:|--:|:--:|\n",
    "|선택정렬|$0(n^2)$|$0(n^2)$|$0(n^2)$|\n",
    "|삽입정렬|$0(n^2)$|$0(n^2)$|$0(n^2)$|\n",
    "|버블|$0(n^2)$|$0(n^2)$|$0(n^2)$|\n",
    "|합병|$0(n log n)$|$0(n log n)$|$0(n log n)$|\n",
    "|퀵|$0(n log n)$|$0(n log n)$|$0(n^2)$|\n",
    "|힙|$0(n log n)$|$0(n log n)$|$0(n log n)$|\n",
    "|쉘|$0(n^{1.25})$|$0(n^{1.25})$|$0(n^{1.25})$|\n",
    "|기수|$0(dn)$|$0(dn)$|$0(dn)$|\n"
   ]
  },
  {
   "cell_type": "markdown",
   "metadata": {},
   "source": [
    "#### 선택정렬\n",
    "\n",
    "- 여러 데이터중 가장 작은 값을 뽑는 과정을 반복하여 정렬하는 방식"
   ]
  },
  {
   "cell_type": "code",
   "execution_count": 7,
   "metadata": {},
   "outputs": [],
   "source": [
    "def findMinIdx(ary):\n",
    "    minIdx = 0 # 맨 처음값을 최소라고 가정\n",
    "    for i in range(1, len(ary)):\n",
    "        if ary[minIdx] > ary[i]:\n",
    "            minIdx = i\n",
    "\n",
    "    return minIdx"
   ]
  },
  {
   "cell_type": "code",
   "execution_count": 9,
   "metadata": {},
   "outputs": [
    {
     "name": "stdout",
     "output_type": "stream",
     "text": [
      "최소값 인덱스 : 3\n",
      "최소값 : 22\n"
     ]
    }
   ],
   "source": [
    "testAry = [55, 88, 33, 22, 77]\n",
    "minPos = findMinIdx(testAry)\n",
    "\n",
    "print(f'최소값 인덱스 : {minPos}')\n",
    "print(f'최소값 : {testAry[minPos]}')"
   ]
  },
  {
   "cell_type": "code",
   "execution_count": null,
   "metadata": {},
   "outputs": [
    {
     "name": "stdout",
     "output_type": "stream",
     "text": [
      "정렬 전 -> [188, 162, 168, 120, 50, 150, 177, 105]\n",
      "정렬 후 -> [50, 105, 120, 150, 162, 168, 177, 188]\n"
     ]
    }
   ],
   "source": [
    "## 변수 선언 ### 빅오에엔에2승\n",
    "# [('아빠',188),('할머니', 162), ..., (동생, 105)]\n",
    "before = [188, 162, 168, 120, 50, 150, 177, 105]\n",
    "after = []\n",
    "\n",
    "## 메인코드\n",
    "print(f'정렬 전 -> {before}')\n",
    "\n",
    "for _ in range(len(before)): # 8번\n",
    "    minPos = findMinIdx(before)\n",
    "    after.append(before[minPos])\n",
    "    del(before[minPos])\n",
    "\n",
    "print(f'정렬 후 -> {after}')"
   ]
  },
  {
   "cell_type": "markdown",
   "metadata": {},
   "source": [
    "#### 데이터교환에서 가장 중요한 swap\n",
    "-  변수가 두개 있을 때 하나의 값을 다른 곳으로 할당하려면 임시변수가 필요\n",
    "\n",
    "```python\n",
    "def swap(x,y):\n",
    "    temp = x\n",
    "    x = y\n",
    "    y = temp\n",
    "```"
   ]
  },
  {
   "cell_type": "markdown",
   "metadata": {},
   "source": [
    "#### 변수 하나로 선택정렬"
   ]
  },
  {
   "cell_type": "code",
   "execution_count": 27,
   "metadata": {},
   "outputs": [
    {
     "name": "stdout",
     "output_type": "stream",
     "text": [
      "정렬 전 -> [188, 162, 168, 120, 50, 150, 177, 105]\n",
      "정렬 중 -> [50, 162, 168, 120, 188, 150, 177, 105]\n",
      "정렬 중 -> [50, 105, 168, 120, 188, 150, 177, 162]\n",
      "정렬 중 -> [50, 105, 120, 168, 188, 150, 177, 162]\n",
      "정렬 중 -> [50, 105, 120, 150, 188, 168, 177, 162]\n",
      "정렬 중 -> [50, 105, 120, 150, 162, 168, 177, 188]\n",
      "정렬 중 -> [50, 105, 120, 150, 162, 168, 177, 188]\n",
      "정렬 중 -> [50, 105, 120, 150, 162, 168, 177, 188]\n",
      "정렬 후 -> [50, 105, 120, 150, 162, 168, 177, 188]\n"
     ]
    }
   ],
   "source": [
    "def sortSelection(ary):\n",
    "    n = len(ary)\n",
    "    for i in range(0, n-1):\n",
    "        minIdx = i\n",
    "        for j in range(i+1, n):\n",
    "            if ary[minIdx] > ary[j]:\n",
    "                minIdx = j\n",
    "\n",
    "        tmp = ary[i]\n",
    "        ary[i] = ary[minIdx]\n",
    "        ary[minIdx] = tmp\n",
    "\n",
    "        print(f'정렬 중 -> {ary}')\n",
    "\n",
    "    return ary\n",
    "\n",
    "dataAry = [188, 162, 168, 120, 50, 150, 177, 105]\n",
    "\n",
    "print(f'정렬 전 -> {dataAry}')\n",
    "dataAry = sortSelection(dataAry)\n",
    "print(f'정렬 후 -> {dataAry}')"
   ]
  },
  {
   "cell_type": "markdown",
   "metadata": {},
   "source": [
    "#### 삽입정렬\n",
    "- 기존 데이터 중에 자신의 위치를 찾아 데이터를 삽입하는 정렬방식"
   ]
  },
  {
   "cell_type": "markdown",
   "metadata": {},
   "source": [
    "- 삽입 될 위치를 찾는 함수"
   ]
  },
  {
   "cell_type": "code",
   "execution_count": 20,
   "metadata": {},
   "outputs": [],
   "source": [
    "def findInsertIdx(ary, data):\n",
    "    findIdx = -1 # 배열의 인덱스 앞 (인덱스 0보다 앞) # 인덱스에 들어가지 못한 것 \n",
    "    for i in range(0,len(ary)):\n",
    "        if ary[i] > data:\n",
    "            findIdx = i\n",
    "            break\n",
    "        \n",
    "    if findIdx == -1: # 큰 값을 못찾음. 제일 마지막 위치\n",
    "        return len(ary)\n",
    "    else:\n",
    "        return findIdx    "
   ]
  },
  {
   "cell_type": "code",
   "execution_count": 21,
   "metadata": {},
   "outputs": [
    {
     "name": "stdout",
     "output_type": "stream",
     "text": [
      "삽입위치 인덱스 -> 0\n"
     ]
    }
   ],
   "source": [
    "testAry = []\n",
    "print(f'삽입위치 인덱스 -> {findInsertIdx(testAry, 55)}')"
   ]
  },
  {
   "cell_type": "code",
   "execution_count": 22,
   "metadata": {},
   "outputs": [
    {
     "name": "stdout",
     "output_type": "stream",
     "text": [
      "삽입위치 인덱스 -> 1\n"
     ]
    }
   ],
   "source": [
    "testAry = [33,77,88]\n",
    "print(f'삽입위치 인덱스 -> {findInsertIdx(testAry, 55)}')"
   ]
  },
  {
   "cell_type": "code",
   "execution_count": 23,
   "metadata": {},
   "outputs": [
    {
     "name": "stdout",
     "output_type": "stream",
     "text": [
      "삽입위치 인덱스 -> 2\n"
     ]
    }
   ],
   "source": [
    "testAry = [33,55,77,88]\n",
    "print(f'삽입위치 인덱스 -> {findInsertIdx(testAry, 55)}')"
   ]
  },
  {
   "cell_type": "code",
   "execution_count": 24,
   "metadata": {},
   "outputs": [
    {
     "name": "stdout",
     "output_type": "stream",
     "text": [
      "삽입위치 인덱스 -> 4\n"
     ]
    }
   ],
   "source": [
    "testAry = [33,55,77,88]\n",
    "print(f'삽입위치 인덱스 -> {findInsertIdx(testAry, 100)}')"
   ]
  },
  {
   "cell_type": "markdown",
   "metadata": {},
   "source": [
    "- 삽입정렬 구현"
   ]
  },
  {
   "cell_type": "code",
   "execution_count": 25,
   "metadata": {},
   "outputs": [
    {
     "name": "stdout",
     "output_type": "stream",
     "text": [
      "정렬 전 -> [188, 162, 168, 120, 50, 150, 177, 105]\n",
      "정렬 중 -> [188]\n",
      "정렬 중 -> [162, 188]\n",
      "정렬 중 -> [162, 168, 188]\n",
      "정렬 중 -> [120, 162, 168, 188]\n",
      "정렬 중 -> [50, 120, 162, 168, 188]\n",
      "정렬 중 -> [50, 120, 150, 162, 168, 188]\n",
      "정렬 중 -> [50, 120, 150, 162, 168, 177, 188]\n",
      "정렬 중 -> [50, 105, 120, 150, 162, 168, 177, 188]\n",
      "정렬 후 -> [50, 105, 120, 150, 162, 168, 177, 188]\n"
     ]
    }
   ],
   "source": [
    "# 변수\n",
    "before = [188, 162, 168, 120, 50, 150, 177, 105]\n",
    "after = []\n",
    "\n",
    "# 메인코드\n",
    "print(f'정렬 전 -> {before}')\n",
    "for i in range(len(before)):\n",
    "    data = before[i]\n",
    "    insPos = findInsertIdx(after,data)\n",
    "    after.insert(insPos, data)\n",
    "    print(f'정렬 중 -> {after}')\n",
    "\n",
    "print(f'정렬 후 -> {after}')\n"
   ]
  },
  {
   "cell_type": "markdown",
   "metadata": {},
   "source": [
    "- 변수 하나로 삽입정렬"
   ]
  },
  {
   "cell_type": "code",
   "execution_count": null,
   "metadata": {},
   "outputs": [
    {
     "name": "stdout",
     "output_type": "stream",
     "text": [
      "정렬 전 -> [188, 162, 168, 120, 50, 150, 177, 105]\n",
      "정렬 중 -> [162, 188, 168, 120, 50, 150, 177, 105]\n",
      "정렬 중 -> [162, 168, 188, 120, 50, 150, 177, 105]\n",
      "정렬 중 -> [120, 162, 168, 188, 50, 150, 177, 105]\n",
      "정렬 중 -> [50, 120, 162, 168, 188, 150, 177, 105]\n",
      "정렬 중 -> [50, 120, 150, 162, 168, 188, 177, 105]\n",
      "정렬 중 -> [50, 120, 150, 162, 168, 177, 188, 105]\n",
      "정렬 중 -> [50, 105, 120, 150, 162, 168, 177, 188]\n",
      "정렬 후 -> [50, 105, 120, 150, 162, 168, 177, 188]\n"
     ]
    }
   ],
   "source": [
    "def sortInsertion(ary):\n",
    "    n = len(ary)\n",
    "    for end in range(1, n): # end -> 1 ... n-1\n",
    "        for cur in range(end,0,-1): # cur 거꾸로\n",
    "            if ary[cur-1] > ary[cur]:\n",
    "                # tmp = ary[cur]\n",
    "                # ary[cur] = ary[cur - 1]\n",
    "                # ary[cur - 1] = tmp\n",
    "\n",
    "                # tem변수를 만들지 않고 바로 변경할 수 있는 로직 (파이썬에 존재)\n",
    "                ary[cur-1], ary[cur] = ary[cur], ary[cur-1] \n",
    "\n",
    "        print(f'정렬 중 -> {ary}')\n",
    "    \n",
    "    return ary\n",
    "\n",
    "dataAry = [188, 162, 168, 120, 50, 150, 177, 105]\n",
    "\n",
    "# 메인코드\n",
    "print(f'정렬 전 -> {dataAry}')\n",
    "dataAry = sortInsertion(dataAry)\n",
    "print(f'정렬 후 -> {dataAry}')"
   ]
  }
 ],
 "metadata": {
  "kernelspec": {
   "display_name": "Python 3",
   "language": "python",
   "name": "python3"
  },
  "language_info": {
   "codemirror_mode": {
    "name": "ipython",
    "version": 3
   },
   "file_extension": ".py",
   "mimetype": "text/x-python",
   "name": "python",
   "nbconvert_exporter": "python",
   "pygments_lexer": "ipython3",
   "version": "3.11.9"
  }
 },
 "nbformat": 4,
 "nbformat_minor": 2
}
