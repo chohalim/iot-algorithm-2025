{
 "cells": [
  {
   "cell_type": "markdown",
   "metadata": {},
   "source": [
    "### 연결 리스트(Liked List)\n",
    "- 노드(데이터, 링크 쌍)으로 다음 데이터를 연결하는 동적 연결방식\n",
    "- 오버헤드가 없어서 매우 빨리 처리"
   ]
  },
  {
   "cell_type": "code",
   "execution_count": 9,
   "metadata": {},
   "outputs": [],
   "source": [
    "class Node:\n",
    "    def __init__(self):\n",
    "        self.data = None\n",
    "        self.link = None\n",
    "\n",
    "def __str__(self):\n",
    "    return (f'{self.data}/{self.link}')"
   ]
  },
  {
   "cell_type": "code",
   "execution_count": 11,
   "metadata": {},
   "outputs": [
    {
     "name": "stdout",
     "output_type": "stream",
     "text": [
      "<__main__.Node object at 0x0000017B84CF8150>\n"
     ]
    }
   ],
   "source": [
    "# 노드1 생성\n",
    "node1 = Node()\n",
    "node1.data = '다현'\n",
    "\n",
    "print(node1)"
   ]
  },
  {
   "cell_type": "code",
   "execution_count": 12,
   "metadata": {},
   "outputs": [],
   "source": [
    "# 노드2\n",
    "node2 = Node()\n",
    "node2.data = '정연'\n",
    "node1.link = node2 "
   ]
  },
  {
   "cell_type": "code",
   "execution_count": 19,
   "metadata": {},
   "outputs": [],
   "source": [
    "node3 = Node()\n",
    "node3.date = '쯔위'\n",
    "node2.link = node3\n",
    "\n",
    "node4 = Node()\n",
    "node4.data = '사나'\n",
    "node3.link = node4\n",
    "\n",
    "node5 = Node()\n",
    "node5.data = '지효'\n",
    "node4.link = node5\n",
    "# node5.link == None"
   ]
  },
  {
   "cell_type": "code",
   "execution_count": 20,
   "metadata": {},
   "outputs": [
    {
     "name": "stdout",
     "output_type": "stream",
     "text": [
      "다현 -> 정연 -> None -> 사나 -> 지효\n"
     ]
    }
   ],
   "source": [
    "print(node1.data, end=' -> ') # node1 데이터\n",
    "print(node1.link.data, end=' -> ') # node2 데이터\n",
    "print(node1.link.link.data, end=' -> ') # node3 데이터\n",
    "print(node1.link.link.link.data, end=' -> ') # node4 데이터\n",
    "print(node1.link.link.link.link.data, end='\\n') # node5 데이터"
   ]
  },
  {
   "cell_type": "code",
   "execution_count": null,
   "metadata": {},
   "outputs": [
    {
     "name": "stdout",
     "output_type": "stream",
     "text": [
      "1630020796752\n",
      "1630020796816\n",
      "1630020269200\n",
      "1630020259728\n",
      "1630020255952\n"
     ]
    }
   ],
   "source": [
    "# 순차리스트 처럼 연결되어 있지 않음\n",
    "print(id(node1))\n",
    "print(id(node2))\n",
    "print(id(node3))\n",
    "print(id(node4))\n",
    "print(id(node5))"
   ]
  },
  {
   "cell_type": "code",
   "execution_count": null,
   "metadata": {},
   "outputs": [],
   "source": [
    "current = node1\n",
    "print(current.data, end='->')\n",
    "while current.link != None: # 현재 노드의 링크가 None(더이상 다음 링크가 없다)\n",
    "    current = current.link # node1.link 에는 node2가 존재. node2를 current에 할당\n",
    "    if current.link is None:\n",
    "        print(current.date, end='->')\n",
    "    else:\n",
    "        print(current.data, end='->')"
   ]
  },
  {
   "cell_type": "markdown",
   "metadata": {},
   "source": [
    "- 연결 리스트 중간 데이터 삽입\n",
    "    1. 노드 생성\n",
    "    2. 연결 할 위치 앞 노드 링크가 가르키는 노드를 생성한 노드도 가리키게 함\n",
    "    3. 앞 노드의 링크가 생성한 노드를 가리키게 함"
   ]
  },
  {
   "cell_type": "code",
   "execution_count": 24,
   "metadata": {},
   "outputs": [],
   "source": [
    "newNode = Node()\n",
    "newNode.data = '재남'\n",
    "newNode.link = node2.link # node3이 newNode.link로 할당\n",
    "node2.link = newNode"
   ]
  },
  {
   "cell_type": "code",
   "execution_count": 26,
   "metadata": {},
   "outputs": [
    {
     "name": "stdout",
     "output_type": "stream",
     "text": [
      "다현->정연->재남->None->"
     ]
    },
    {
     "ename": "AttributeError",
     "evalue": "'Node' object has no attribute 'date'",
     "output_type": "error",
     "traceback": [
      "\u001b[1;31m---------------------------------------------------------------------------\u001b[0m",
      "\u001b[1;31mAttributeError\u001b[0m                            Traceback (most recent call last)",
      "Cell \u001b[1;32mIn[26], line 6\u001b[0m\n\u001b[0;32m      4\u001b[0m current \u001b[38;5;241m=\u001b[39m current\u001b[38;5;241m.\u001b[39mlink \u001b[38;5;66;03m# node1.link 에는 node2가 존재. node2를 current에 할당\u001b[39;00m\n\u001b[0;32m      5\u001b[0m \u001b[38;5;28;01mif\u001b[39;00m current\u001b[38;5;241m.\u001b[39mlink \u001b[38;5;129;01mis\u001b[39;00m \u001b[38;5;28;01mNone\u001b[39;00m:\n\u001b[1;32m----> 6\u001b[0m     \u001b[38;5;28mprint\u001b[39m(\u001b[43mcurrent\u001b[49m\u001b[38;5;241;43m.\u001b[39;49m\u001b[43mdate\u001b[49m, end\u001b[38;5;241m=\u001b[39m\u001b[38;5;124m'\u001b[39m\u001b[38;5;124m->\u001b[39m\u001b[38;5;124m'\u001b[39m)\n\u001b[0;32m      7\u001b[0m \u001b[38;5;28;01melse\u001b[39;00m:\n\u001b[0;32m      8\u001b[0m     \u001b[38;5;28mprint\u001b[39m(current\u001b[38;5;241m.\u001b[39mdata, end\u001b[38;5;241m=\u001b[39m\u001b[38;5;124m'\u001b[39m\u001b[38;5;124m->\u001b[39m\u001b[38;5;124m'\u001b[39m)\n",
      "\u001b[1;31mAttributeError\u001b[0m: 'Node' object has no attribute 'date'"
     ]
    }
   ],
   "source": [
    "current = node1\n",
    "print(current.data, end='->')\n",
    "while current.link != None: # 현재 노드의 링크가 None(더이상 다음 링크가 없다)\n",
    "    current = current.link # node1.link 에는 node2가 존재. node2를 current에 할당\n",
    "    if current.link is None:\n",
    "        print(current.date, end='->')\n",
    "    else:\n",
    "        print(current.data, end='->')"
   ]
  },
  {
   "cell_type": "markdown",
   "metadata": {},
   "source": [
    "- 노드 삭제\n",
    "    1. 지우려는 노드의 link를 왼쪽 노드의 link로 할당\n",
    "    2. 지우려는 노드를 삭제!"
   ]
  },
  {
   "cell_type": "code",
   "execution_count": null,
   "metadata": {},
   "outputs": [],
   "source": [
    "# node4 지우려면\n",
    "node3.link = node4.link # node5\n",
    "del(node4)"
   ]
  },
  {
   "cell_type": "code",
   "execution_count": null,
   "metadata": {},
   "outputs": [],
   "source": [
    "current = node1\n",
    "print(current.data, end='->')\n",
    "while current.link != None: # 현재 노드의 링크가 None(더이상 다음 링크가 없다)\n",
    "    current = current.link # node1.link 에는 node2가 존재. node2를 current에 할당\n",
    "    if current.link is None:\n",
    "        print(current.date, end='->')\n",
    "    else:\n",
    "        print(current.data, end='->')"
   ]
  }
 ],
 "metadata": {
  "kernelspec": {
   "display_name": "Python 3",
   "language": "python",
   "name": "python3"
  },
  "language_info": {
   "codemirror_mode": {
    "name": "ipython",
    "version": 3
   },
   "file_extension": ".py",
   "mimetype": "text/x-python",
   "name": "python",
   "nbconvert_exporter": "python",
   "pygments_lexer": "ipython3",
   "version": "3.11.9"
  }
 },
 "nbformat": 4,
 "nbformat_minor": 2
}
